{
 "cells": [
  {
   "cell_type": "code",
   "execution_count": 1,
   "id": "fba0f7ca-e5a6-43b4-969b-b4d3de623a3b",
   "metadata": {},
   "outputs": [],
   "source": [
    "from nltk.stem import WordNetLemmatizer"
   ]
  },
  {
   "cell_type": "code",
   "execution_count": 9,
   "id": "6e6ddd45-4bb2-46cf-96f5-b3902fd615e3",
   "metadata": {},
   "outputs": [
    {
     "name": "stderr",
     "output_type": "stream",
     "text": [
      "[nltk_data] Downloading package wordnet to /Users/rajat/nltk_data...\n"
     ]
    },
    {
     "data": {
      "text/plain": [
       "True"
      ]
     },
     "execution_count": 9,
     "metadata": {},
     "output_type": "execute_result"
    }
   ],
   "source": [
    "import nltk\n",
    "nltk.download('wordnet')"
   ]
  },
  {
   "cell_type": "code",
   "execution_count": 14,
   "id": "56d29b04-41e0-4de9-bb9c-5be31d7fbf21",
   "metadata": {},
   "outputs": [],
   "source": [
    "words = ['going','goes','go','gone', 'programming', 'programs', 'coding', 'fairly','congratulations']"
   ]
  },
  {
   "cell_type": "code",
   "execution_count": 15,
   "id": "e5330c66-bfe1-46a6-8087-f0fdb2544efe",
   "metadata": {},
   "outputs": [],
   "source": [
    "lemmatizer = WordNetLemmatizer()"
   ]
  },
  {
   "cell_type": "code",
   "execution_count": 16,
   "id": "b3a7d6d4-45cf-4f96-9084-0c76af6ff141",
   "metadata": {},
   "outputs": [
    {
     "name": "stdout",
     "output_type": "stream",
     "text": [
      "going==> go\n",
      "goes==> go\n",
      "go==> go\n",
      "gone==> go\n",
      "programming==> program\n",
      "programs==> program\n",
      "coding==> cod\n",
      "fairly==> fairly\n",
      "congratulations==> congratulations\n"
     ]
    }
   ],
   "source": [
    "for word in words:\n",
    "    print(word + \"==> \"+ lemmatizer.lemmatize(word,\"v\"))"
   ]
  },
  {
   "cell_type": "code",
   "execution_count": null,
   "id": "1e902e81-e325-4691-8986-c49f792b024e",
   "metadata": {},
   "outputs": [],
   "source": []
  },
  {
   "cell_type": "code",
   "execution_count": null,
   "id": "18009d8a-1d61-4fa9-aadb-a32fd6dcbcc8",
   "metadata": {},
   "outputs": [],
   "source": []
  }
 ],
 "metadata": {
  "kernelspec": {
   "display_name": "Python 3 (ipykernel)",
   "language": "python",
   "name": "python3"
  },
  "language_info": {
   "codemirror_mode": {
    "name": "ipython",
    "version": 3
   },
   "file_extension": ".py",
   "mimetype": "text/x-python",
   "name": "python",
   "nbconvert_exporter": "python",
   "pygments_lexer": "ipython3",
   "version": "3.9.6"
  }
 },
 "nbformat": 4,
 "nbformat_minor": 5
}
