{
 "cells": [
  {
   "cell_type": "code",
   "execution_count": 1,
   "id": "fca29445-484b-48b7-924c-5368e1382604",
   "metadata": {},
   "outputs": [],
   "source": [
    "from nltk.stem import PorterStemmer "
   ]
  },
  {
   "cell_type": "code",
   "execution_count": 2,
   "id": "64c07977-1d31-43de-b0e7-7cd8b407f910",
   "metadata": {},
   "outputs": [],
   "source": [
    "stemming = PorterStemmer()"
   ]
  },
  {
   "cell_type": "code",
   "execution_count": 8,
   "id": "05f8883a-2467-4446-835d-6dab93a1fbc1",
   "metadata": {},
   "outputs": [],
   "source": [
    "words = ['going','goes','go','gone', 'programming', 'programs', 'coading', 'fairly','congratulations']"
   ]
  },
  {
   "cell_type": "code",
   "execution_count": 9,
   "id": "ad94e208-3d29-4bd8-9e5a-8156beb078c7",
   "metadata": {},
   "outputs": [
    {
     "name": "stdout",
     "output_type": "stream",
     "text": [
      "going ==> go\n",
      "goes ==> goe\n",
      "go ==> go\n",
      "gone ==> gone\n",
      "programming ==> program\n",
      "programs ==> program\n",
      "coading ==> coad\n",
      "fairly ==> fairli\n",
      "congratulations ==> congratul\n"
     ]
    }
   ],
   "source": [
    "for word in words:\n",
    "    print(word +\" ==> \" + stemming.stem(word))"
   ]
  },
  {
   "cell_type": "code",
   "execution_count": null,
   "id": "711d7cd0-2994-440e-b02c-9b01e692b4fa",
   "metadata": {},
   "outputs": [],
   "source": []
  },
  {
   "cell_type": "code",
   "execution_count": null,
   "id": "2d287940-0084-4107-91b9-252bee0832fb",
   "metadata": {},
   "outputs": [],
   "source": []
  },
  {
   "cell_type": "code",
   "execution_count": 10,
   "id": "820442bc-713f-4f16-8dd9-724b6db517bf",
   "metadata": {},
   "outputs": [],
   "source": [
    "from nltk.stem import RegexpStemmer"
   ]
  },
  {
   "cell_type": "code",
   "execution_count": 15,
   "id": "7d9c4936-6321-4046-900d-8d167e8f4880",
   "metadata": {},
   "outputs": [],
   "source": [
    "reg_stemming = RegexpStemmer('ing$|s$|e$|able$', min=0)"
   ]
  },
  {
   "cell_type": "code",
   "execution_count": 16,
   "id": "cfd96fb9-2b1f-4ec0-b061-d575603a8871",
   "metadata": {},
   "outputs": [
    {
     "name": "stdout",
     "output_type": "stream",
     "text": [
      "going ==> go\n",
      "goes ==> goe\n",
      "go ==> go\n",
      "gone ==> gon\n",
      "programming ==> programm\n",
      "programs ==> program\n",
      "coading ==> coad\n",
      "fairly ==> fairly\n",
      "congratulations ==> congratulation\n"
     ]
    }
   ],
   "source": [
    "for word in words:\n",
    "    print(word +\" ==> \" + reg_stemming.stem(word))"
   ]
  },
  {
   "cell_type": "code",
   "execution_count": null,
   "id": "abfc5cf3-9ca3-47c4-a1cc-83e88b20d943",
   "metadata": {},
   "outputs": [],
   "source": []
  },
  {
   "cell_type": "code",
   "execution_count": null,
   "id": "b69d4f25-3e91-4e05-9bfb-42b2a31d483e",
   "metadata": {},
   "outputs": [],
   "source": []
  },
  {
   "cell_type": "code",
   "execution_count": null,
   "id": "717e316c-7a81-4bae-8751-1bbb8abfc9ea",
   "metadata": {},
   "outputs": [],
   "source": []
  },
  {
   "cell_type": "code",
   "execution_count": 22,
   "id": "076944a4-6cb8-4aff-8424-31cdff5c15d8",
   "metadata": {},
   "outputs": [],
   "source": [
    "from nltk.stem import SnowballStemmer"
   ]
  },
  {
   "cell_type": "code",
   "execution_count": 29,
   "id": "8133cd69-4d6f-4b27-a8c4-89b461211294",
   "metadata": {},
   "outputs": [],
   "source": [
    "snowball_stemming = SnowballStemmer('english')"
   ]
  },
  {
   "cell_type": "code",
   "execution_count": 30,
   "id": "bd157285-ff06-462e-bcb4-7c8dccc23e04",
   "metadata": {},
   "outputs": [
    {
     "name": "stdout",
     "output_type": "stream",
     "text": [
      "going ==> go\n",
      "goes ==> goe\n",
      "go ==> go\n",
      "gone ==> gone\n",
      "programming ==> program\n",
      "programs ==> program\n",
      "coading ==> coad\n",
      "fairly ==> fair\n",
      "congratulations ==> congratul\n"
     ]
    }
   ],
   "source": [
    "for word in words:\n",
    "    print(word +\" ==> \" + snowball_stemming.stem(word))"
   ]
  },
  {
   "cell_type": "code",
   "execution_count": null,
   "id": "83feb850-1410-484a-9555-ff287d354a3b",
   "metadata": {},
   "outputs": [],
   "source": []
  }
 ],
 "metadata": {
  "kernelspec": {
   "display_name": "Python 3 (ipykernel)",
   "language": "python",
   "name": "python3"
  },
  "language_info": {
   "codemirror_mode": {
    "name": "ipython",
    "version": 3
   },
   "file_extension": ".py",
   "mimetype": "text/x-python",
   "name": "python",
   "nbconvert_exporter": "python",
   "pygments_lexer": "ipython3",
   "version": "3.9.6"
  }
 },
 "nbformat": 4,
 "nbformat_minor": 5
}
